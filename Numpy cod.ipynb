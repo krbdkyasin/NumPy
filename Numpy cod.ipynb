{
 "cells": [
  {
   "cell_type": "markdown",
   "id": "59889683",
   "metadata": {},
   "source": [
    "# NUMPY \n",
    "\n",
    "# Neden NumPy Kullanılır?\n",
    "\n",
    "NumPy, Python dilinde sayısal işlemler yapmak için sıkça kullanılan güçlü bir kütüphanedir. Özellikle **matematiksel** ve **istatistiksel** hesaplamalarda büyük kolaylık sağlar.\n",
    "\n",
    "---\n",
    "\n",
    "## NumPy'nin Temel Avantajları\n",
    "\n",
    "### 1. Hızlı Çalışma\n",
    "\n",
    "NumPy dizilerinde tüm veriler **aynı türde** (homojen) tutulur. Bu sayede bellek daha verimli kullanılır ve işlemler, Python listelerine göre çok daha hızlı gerçekleşir.\n",
    "\n",
    "> Örnek:  \n",
    "> Python listesi farklı veri türleri içerebilirken, NumPy dizisi yalnızca tek bir türde veri tutar. Bu da veri işleme hızını artırır.\n",
    "\n",
    "---\n",
    "\n",
    "### 2. Vektörel İşlemler\n",
    "\n",
    "NumPy, diziler üzerinde **toplu işlemler** yapılmasına olanak tanır. Döngü kullanmadan, tek satırlık komutlarla tüm dizi üzerinde işlem yapılabilir.\n",
    "\n",
    "> Bu sayede:\n",
    "> - Daha az kod yazılır.\n",
    "> - İşlemler daha kısa sürede tamamlanır.\n",
    "> - Kod daha okunabilir ve düzenli olur.\n",
    "\n",
    "---\n",
    "\n",
    "NumPy bu iki temel özelliğiyle bilimsel projelerde, veri analizi ve makine öğrenmesi gibi alanlarda sıkça tercih edilir.\n"
   ]
  },
  {
   "cell_type": "code",
   "execution_count": null,
   "id": "3f44867a",
   "metadata": {},
   "outputs": [],
   "source": [
    "import numpy as np\n",
    "a = [55,34,23,34]\n",
    "b = [34,34,55,55]\n",
    "\n",
    "ab=[] \n",
    "\n",
    "for i in range(0,len(a)):\n",
    "    ab.append(a[i]*b[i])\n",
    "\n",
    "\n",
    "print(ab)\n",
    "\n",
    "# şimdi bunu bide numpy kullanarak array ile yapalım\n",
    "\n",
    "c = np.array([55,34,23,34])\n",
    "d = np.array([34,34,55,55])\n",
    "c*d\n",
    "\n",
    "# Bu örnekle liste oluşturmadık döngü kurmadık çok kolay şekilde numpy sayesinde hemen halletik"
   ]
  },
  {
   "cell_type": "markdown",
   "id": "2905f8db",
   "metadata": {},
   "source": [
    "# NumPy Array'i Oluşturma (Creating NumPy Arrays)\n",
    "\n",
    "NumPy array'leri, Python'daki diğer veri yapıları gibi kullanılan özel bir yapıdır. Python'da sıkça kullanılan veri yapıları şunlardır:\n",
    "\n",
    "- `int` (tam sayılar)\n",
    "- `float` (ondalıklı sayılar)\n",
    "- `str` (metinler)\n",
    "- `list` (listeler)\n",
    "- `dict` (sözlükler)\n",
    "- `tuple` (demetler)\n",
    "- `set` (kümeler)\n",
    "\n",
    "NumPy kütüphanesinin temel veri yapısı ise **NumPy array**'idir (dizi yapısı). NumPy ile çalışabilmek için öncelikle bu array yapısını oluşturmamız gerekir.\n",
    "\n",
    "Array’ler sayesinde veriler üzerinde matematiksel ve istatistiksel işlemler daha kolay ve hızlı bir şekilde yapılabilir.\n",
    "\n",
    "> Kısacası:  \n",
    "> NumPy'da işlem yapmanın ilk adımı, verileri bir **array** (dizi) haline getirmektir.\n",
    "\n"
   ]
  },
  {
   "cell_type": "code",
   "execution_count": null,
   "id": "22e7605e",
   "metadata": {},
   "outputs": [],
   "source": [
    "a = np.array([5,6,7,8,9])\n",
    "type(a) "
   ]
  },
  {
   "cell_type": "code",
   "execution_count": null,
   "id": "2d9772f2",
   "metadata": {},
   "outputs": [],
   "source": [
    "np.zeros(10,dtype=int) # zeros sıfır üretir dtype ise type söyler "
   ]
  },
  {
   "cell_type": "code",
   "execution_count": null,
   "id": "15670a18",
   "metadata": {},
   "outputs": [],
   "source": [
    "np.random.randint(0,7, size = 7)"
   ]
  },
  {
   "cell_type": "code",
   "execution_count": null,
   "id": "c67bee34",
   "metadata": {},
   "outputs": [],
   "source": [
    "np.random.normal(15,5,(3,3))\n",
    "# Ortalaması 15 standart sapması 5 olan  3x3  olan Normal Dağılımlı sayılar oluşturdu"
   ]
  },
  {
   "cell_type": "markdown",
   "id": "2508157e",
   "metadata": {},
   "source": [
    "# NumPy Array Özellikleri\n",
    "\n",
    "NumPy array'leri, yapıları hakkında bilgi veren bazı önemli özelliklere sahiptir:\n",
    "\n",
    "- **`ndim`** → Array’in kaç boyutlu olduğunu gösterir.  \n",
    "Buradaki \"boyut\", verinin kaç seviyeli yapıda olduğunu ifade eder.\n",
    "\n",
    "    Tek boyutlu array (`ndim = 1`)**  \n",
    "    Düz bir liste gibidir.  \n",
    "    Örnek: `[1, 2, 3, 4]` → 1D array (tek satır gibi düşünebilirsin)\n",
    "\n",
    "    İki boyutlu array (`ndim = 2`)**  \n",
    "    Satır ve sütunlardan oluşur, bir tabloya benzer.  \n",
    "    Örnek: `[[1, 2], [3, 4]]` → 2D array (2 satır, 2 sütun)\n",
    "\n",
    "- **`shape`** → Array’in her boyuttaki eleman sayısını verir.  \n",
    "  *Örneğin, 3 satır 4 sütundan oluşan bir array’in şekli `(3, 4)` olur.*\n",
    "\n",
    "- **`size`** → Array’deki toplam eleman sayısını verir.  \n",
    "  *Örneğin, `(3, 4)` şekline sahip bir array için `size = 12` olur.*\n",
    "\n",
    "- **`dtype`** → Array’deki elemanların veri tipini gösterir.  \n",
    "  *Örneğin, tamsayı elemanlar için `dtype=int64`, ondalıklı elemanlar için `dtype=float64` olabilir.*\n"
   ]
  },
  {
   "cell_type": "code",
   "execution_count": null,
   "id": "c2ffdc90",
   "metadata": {},
   "outputs": [],
   "source": [
    "a = np.random.randint(10,20, size=9)\n",
    "# 10 ile 20 arasında rastgele 9 sayı verecektir bize \n",
    "a"
   ]
  },
  {
   "cell_type": "code",
   "execution_count": null,
   "id": "52302b81",
   "metadata": {},
   "outputs": [],
   "source": [
    "a.ndim \n",
    "# Boyut sayısı veriyor 1"
   ]
  },
  {
   "cell_type": "code",
   "execution_count": null,
   "id": "d7252440",
   "metadata": {},
   "outputs": [],
   "source": [
    "a.shape\n",
    "# Boyut bilgisini veriyor tek boyutlu 9 elemanlı"
   ]
  },
  {
   "cell_type": "code",
   "execution_count": null,
   "id": "75fdb825",
   "metadata": {},
   "outputs": [],
   "source": [
    "a.size\n",
    "# Toplam eleman sayısı"
   ]
  },
  {
   "cell_type": "code",
   "execution_count": null,
   "id": "96991581",
   "metadata": {},
   "outputs": [],
   "source": [
    "a.dtype"
   ]
  },
  {
   "cell_type": "markdown",
   "id": "9e6f7744",
   "metadata": {},
   "source": [
    "# Yeniden Şekillendirme (Reshaping)\n",
    "\n",
    "Elimizdeki bir NumPy array’inin boyutunu (şeklini) değiştirmek için **`reshape()`** fonksiyonu kullanılır.\n",
    "\n",
    "Bu işlem, verinin içeriğini değiştirmez; sadece veri yapısını, yani boyutlarını değiştirir.\n",
    "\n",
    "---\n",
    "\n",
    "## Önemli Nokta:\n",
    "\n",
    "`reshape()` işlemini yaparken, toplam eleman sayısının (`size`) uyumlu olması gerekir.\n",
    "\n",
    "> Örnek:  \n",
    "> Elimizde 5 elemanlı bir array varsa, bunu `3x3` şeklinde bir yapıya **dönüştüremeyiz**, çünkü 3×3 = 9 eleman gerekir.  \n",
    "> Bu durumda **hata alınır**."
   ]
  },
  {
   "cell_type": "code",
   "execution_count": null,
   "id": "4170cd93",
   "metadata": {},
   "outputs": [],
   "source": [
    "a.reshape(3,3)"
   ]
  },
  {
   "cell_type": "code",
   "execution_count": null,
   "id": "c8ecc258",
   "metadata": {},
   "outputs": [],
   "source": [
    "np.random.randint(10,20, size=9)\n",
    "np.random.randint(10,20, size=9).reshape(3,3)"
   ]
  },
  {
   "cell_type": "markdown",
   "id": "ddb691d2",
   "metadata": {},
   "source": [
    "# ⭐ INDEX SEÇİMİ (Indexing)\n",
    "\n",
    "Veri yapılarında, belirli bir veriye ulaşmak için **indeks seçimi (indexing)** kullanılır.  \n",
    "NumPy array’lerinde de istediğimiz elemanı ya da alt diziyi seçmek için index kullanırız.\n",
    "\n",
    "---\n",
    "\n",
    "## Temel Bilgi:\n",
    "\n",
    "NumPy'da indeksler **0'dan başlar**.  \n",
    "Yani ilk eleman `0`, ikinci eleman `1` şeklinde numaralandırılır."
   ]
  },
  {
   "cell_type": "code",
   "execution_count": null,
   "id": "70779149",
   "metadata": {},
   "outputs": [],
   "source": [
    "indexa = a[0] # Bize 1.elemanı götürür \n",
    "indexa"
   ]
  },
  {
   "cell_type": "code",
   "execution_count": null,
   "id": "88e28feb",
   "metadata": {},
   "outputs": [],
   "source": [
    "indexb = a[0:5] # 0 dan 5 E KADAR 5 dahil değildir \n",
    "indexb"
   ]
  },
  {
   "cell_type": "code",
   "execution_count": null,
   "id": "a024c4be",
   "metadata": {},
   "outputs": [],
   "source": [
    "a[0] = 1881  # yaptığımız da elemanı değiştirebiliriz\n",
    "a"
   ]
  },
  {
   "cell_type": "code",
   "execution_count": null,
   "id": "4463726b",
   "metadata": {},
   "outputs": [],
   "source": [
    "# 2 Boyutlu array olursa nasıl seçiyoruz onu yapalım\n",
    "a2 = np.random.randint(40,size=(3,4)) # 3 satır 5 sütunlu bir array oluştur\n",
    "a2"
   ]
  },
  {
   "cell_type": "code",
   "execution_count": null,
   "id": "7546052b",
   "metadata": {},
   "outputs": [],
   "source": [
    "# Burada ilk satırı sonra virgül ekledikten sonra sütunu belirlememiz lazım \n",
    "a2[0,1]"
   ]
  },
  {
   "cell_type": "code",
   "execution_count": null,
   "id": "ee07e36d",
   "metadata": {},
   "outputs": [],
   "source": [
    "a2[0,1] = 666\n",
    "a2"
   ]
  },
  {
   "cell_type": "markdown",
   "id": "275dbd1e",
   "metadata": {},
   "source": [
    "# ⚠️ DİKKAT: NumPy'da Veri Türü Sabittir (Fixed Type)\n",
    "\n",
    "NumPy array'lerinde **veri türü (data type)** sabittir.  \n",
    "Yani bir array oluşturulduğunda, tüm elemanlar **aynı veri türünde** saklanır.\n",
    "> NumPy der ki:  \n",
    "> \"Ben tüm verileri **tek bir veri türünde** saklarım. Bu sayede hem **daha az bellek** kullanırım hem de **daha hızlı** çalışırım.\"\n"
   ]
  },
  {
   "cell_type": "code",
   "execution_count": null,
   "id": "cca5717f",
   "metadata": {},
   "outputs": [],
   "source": [
    "\n",
    "a2[0,1] = 2.4\n",
    "a2\n"
   ]
  },
  {
   "cell_type": "code",
   "execution_count": null,
   "id": "685e9384",
   "metadata": {},
   "outputs": [],
   "source": [
    "a2[:,0] # :, kısmı tüm her şeyi seç 0 ise 0.sütunu seçmesini belirt"
   ]
  },
  {
   "cell_type": "code",
   "execution_count": null,
   "id": "f1550a2f",
   "metadata": {},
   "outputs": [],
   "source": [
    "a2[1,:] # satırı seçmemizi söğlar"
   ]
  },
  {
   "cell_type": "code",
   "execution_count": null,
   "id": "4852bd7b",
   "metadata": {},
   "outputs": [],
   "source": [
    "a2[0:1,0:2] # Satırlarda 0 dan 1 E KADAR sütunlarda 0 dan 2 E KADAR git demek"
   ]
  },
  {
   "cell_type": "markdown",
   "id": "0497ded6",
   "metadata": {},
   "source": [
    "# Fancy Indexing (Gelişmiş İndeksleme)\n",
    "\n",
    "**Fancy indexing**, bir NumPy array’indeki birden fazla elemana, **index numaralarını liste veya array olarak vererek** kolayca erişmemizi sağlar.\n",
    "\n",
    "Normal indexlemeden farklı olarak, tek tek değil, **birden fazla elemanı aynı anda** seçmemize olanak tanır.\n",
    "\n",
    "---"
   ]
  },
  {
   "cell_type": "code",
   "execution_count": null,
   "id": "61e39b6e",
   "metadata": {},
   "outputs": [],
   "source": [
    "v = np.arange(0,30,3) # 0 dan 30 a kadar 3 er 3 er array oluştur"
   ]
  },
  {
   "cell_type": "code",
   "execution_count": null,
   "id": "10b3e5b3",
   "metadata": {},
   "outputs": [],
   "source": [
    "v[3] "
   ]
  },
  {
   "cell_type": "code",
   "execution_count": null,
   "id": "647f1efe",
   "metadata": {},
   "outputs": [],
   "source": [
    "catch =[5,6,7]  \n",
    "v[catch] #bize 5 6 7 indexdeki elemanları seçti"
   ]
  },
  {
   "cell_type": "markdown",
   "id": "26e399d2",
   "metadata": {},
   "source": [
    "# Numpy'da koşullu işlemler(Conditions on numpy)\n"
   ]
  },
  {
   "cell_type": "code",
   "execution_count": 35,
   "id": "65f7e0a9",
   "metadata": {},
   "outputs": [
    {
     "name": "stdout",
     "output_type": "stream",
     "text": [
      "[34, 55, 23]\n"
     ]
    }
   ],
   "source": [
    "import numpy as np\n",
    "\n",
    "v2 = np.array([99, 34, 55, 23]) # Yukarıda bir kere daha liste yaptığımız için hata veriyor kernel restartla\n",
    "gg = []\n",
    "\n",
    "for i in v2:\n",
    "    if i < 60:\n",
    "        gg.append(i)\n",
    "\n",
    "print(gg)\n"
   ]
  },
  {
   "cell_type": "code",
   "execution_count": 7,
   "id": "cc8347d2",
   "metadata": {},
   "outputs": [
    {
     "name": "stdout",
     "output_type": "stream",
     "text": [
      "[False  True False  True]\n",
      "[34 23]\n",
      "[99 55]\n",
      "[99 34 55 23]\n",
      "[]\n",
      "[99 55]\n"
     ]
    }
   ],
   "source": [
    "# NumPy ile yapalım\n",
    "# Bir array ın içinden koşullu eleman seçerken şöyle yapıyoruz\n",
    "print(v2 < 50)  \n",
    "print(v2[v2<50]) # 50 den küçükler gelsin\n",
    "print(v2[v2>50]) # 50 den büyükler gelsin\n",
    "print(v2[v2!=50]) # 50 den farklı olanlar gelsin\n",
    "print(v2[v2==50]) # 50 ye eşit olanlar gelsin\n",
    "print(v2[v2>=50]) # 50 dahil büyükler gelsin\n"
   ]
  },
  {
   "cell_type": "markdown",
   "id": "8b4e81af",
   "metadata": {},
   "source": [
    "# Matematiksel İşlemler\n"
   ]
  },
  {
   "cell_type": "code",
   "execution_count": 14,
   "id": "0b8a8364",
   "metadata": {},
   "outputs": [
    {
     "name": "stdout",
     "output_type": "stream",
     "text": [
      "[19.8  6.8 11.   4.6]\n",
      "[49.5 17.  27.5 11.5]\n",
      "[9801 1156 3025  529]\n",
      "[84 19 40  8]\n"
     ]
    }
   ],
   "source": [
    "print(v2 / 5)\n",
    "print(v2*5/10)\n",
    "print(v2 ** 2)\n",
    "print(v2 - 15)"
   ]
  },
  {
   "cell_type": "code",
   "execution_count": 17,
   "id": "0f696de9",
   "metadata": {},
   "outputs": [
    {
     "data": {
      "text/plain": [
       "array([95, 30, 51, 19])"
      ]
     },
     "execution_count": 17,
     "metadata": {},
     "output_type": "execute_result"
    }
   ],
   "source": [
    "np.subtract(v2,4) # Çıkartma işlemi"
   ]
  },
  {
   "cell_type": "code",
   "execution_count": null,
   "id": "a2ef5287",
   "metadata": {},
   "outputs": [
    {
     "data": {
      "text/plain": [
       "array([103,  38,  59,  27])"
      ]
     },
     "execution_count": 18,
     "metadata": {},
     "output_type": "execute_result"
    }
   ],
   "source": [
    "np.add(v2,4) # Toplama işlemi"
   ]
  },
  {
   "cell_type": "code",
   "execution_count": 19,
   "id": "eefc58ab",
   "metadata": {},
   "outputs": [
    {
     "data": {
      "text/plain": [
       "52.75"
      ]
     },
     "execution_count": 19,
     "metadata": {},
     "output_type": "execute_result"
    }
   ],
   "source": [
    "np.mean(v2) # Ortalama işlemi"
   ]
  },
  {
   "cell_type": "code",
   "execution_count": null,
   "id": "2aeca262",
   "metadata": {},
   "outputs": [
    {
     "data": {
      "text/plain": [
       "211"
      ]
     },
     "execution_count": 20,
     "metadata": {},
     "output_type": "execute_result"
    }
   ],
   "source": [
    "np.sum(v2) # Toplam işlemi"
   ]
  },
  {
   "cell_type": "code",
   "execution_count": 21,
   "id": "f7dfaac4",
   "metadata": {},
   "outputs": [
    {
     "data": {
      "text/plain": [
       "23"
      ]
     },
     "execution_count": 21,
     "metadata": {},
     "output_type": "execute_result"
    }
   ],
   "source": [
    "np.min(v2) # min değeri"
   ]
  },
  {
   "cell_type": "code",
   "execution_count": null,
   "id": "325c3d2e",
   "metadata": {},
   "outputs": [
    {
     "data": {
      "text/plain": [
       "99"
      ]
     },
     "execution_count": 22,
     "metadata": {},
     "output_type": "execute_result"
    }
   ],
   "source": [
    "np.max(v2) # max değeri"
   ]
  },
  {
   "cell_type": "code",
   "execution_count": null,
   "id": "cc57dd0b",
   "metadata": {},
   "outputs": [
    {
     "data": {
      "text/plain": [
       "845.1875"
      ]
     },
     "execution_count": 23,
     "metadata": {},
     "output_type": "execute_result"
    }
   ],
   "source": [
    "np.var(v2) # Varyansı verir"
   ]
  },
  {
   "cell_type": "code",
   "execution_count": 26,
   "id": "13981d5f",
   "metadata": {},
   "outputs": [
    {
     "data": {
      "text/plain": [
       "44.5"
      ]
     },
     "execution_count": 26,
     "metadata": {},
     "output_type": "execute_result"
    }
   ],
   "source": [
    "np.median(v2) # Medyan değeri"
   ]
  },
  {
   "cell_type": "code",
   "execution_count": null,
   "id": "54f294ce",
   "metadata": {},
   "outputs": [
    {
     "data": {
      "text/plain": [
       "29.07210862665452"
      ]
     },
     "execution_count": 25,
     "metadata": {},
     "output_type": "execute_result"
    }
   ],
   "source": [
    "np.std(v2) # Standart sapmasını verir"
   ]
  },
  {
   "cell_type": "code",
   "execution_count": 36,
   "id": "50bb6e69",
   "metadata": {},
   "outputs": [
    {
     "data": {
      "text/plain": [
       "array([100,  35,  56,  24])"
      ]
     },
     "execution_count": 36,
     "metadata": {},
     "output_type": "execute_result"
    }
   ],
   "source": [
    "# NOT: Eğer arrayda yaptığımız değişiklik örneğin +1 yaptık tüm değelere bunu kalıcı\n",
    "# olmasını istiyorsak atama yapmayı unutmamalıyız\n",
    "v2 = np.add(v2,1)\n",
    "v2"
   ]
  },
  {
   "cell_type": "code",
   "execution_count": 34,
   "id": "02440e20",
   "metadata": {},
   "outputs": [
    {
     "data": {
      "text/plain": [
       "array([99, 34, 55, 23])"
      ]
     },
     "execution_count": 34,
     "metadata": {},
     "output_type": "execute_result"
    }
   ],
   "source": [
    "# eski haline getirelim\n",
    "v2 = np.subtract(v2,1)\n",
    "v2"
   ]
  },
  {
   "cell_type": "code",
   "execution_count": 37,
   "id": "562b9bbc",
   "metadata": {},
   "outputs": [
    {
     "data": {
      "text/plain": [
       "array([1.85714286, 2.71428571])"
      ]
     },
     "execution_count": 37,
     "metadata": {},
     "output_type": "execute_result"
    }
   ],
   "source": [
    "# İki bilinmeyenli bir denklem çözmek istersek\n",
    "# 6x0 + 2x1 = 12\n",
    "# x0  + 7x1 = 87\n",
    "a = np.array([[5,1],[1,3]])\n",
    "b = np.array([12,10])\n",
    "\n",
    "np.linalg.solve(a,b)"
   ]
  },
  {
   "cell_type": "markdown",
   "id": "152c1bf9",
   "metadata": {},
   "source": [
    "# NumPy Genel Özeti 📌\n",
    "\n",
    "**NumPy**, Python’da **sayısal verilerle çalışmak** için geliştirilmiş güçlü bir kütüphanedir.  \n",
    "Özellikle veri analizi, bilimsel hesaplamalar ve makine öğrenmesi gibi alanlarda yaygın olarak kullanılır.\n",
    "\n",
    "---\n",
    "\n",
    "## ✅ Neden NumPy Kullanılır?\n",
    "\n",
    "- **Hızlıdır:** Sabit veri tipi (fixed type) kullanır, belleği verimli kullanır.\n",
    "- **Verimli çalışır:** Vektörel işlemlerle döngü kullanmadan çok sayıda işlem yapılabilir.\n",
    "- **Kolaydır:** Matris ve dizi işlemleri sade sözdizimiyle kolaylaştırılmıştır.\n",
    "- **Güçlüdür:** Çok boyutlu dizilerle (1D, 2D, 3D...) rahatça çalışılır.\n",
    "\n",
    "---\n",
    "\n",
    "## 🧩 NumPy'nin Temel Yapısı: Array\n",
    "\n",
    "- NumPy'da veriler **array** (dizi) yapısında tutulur.\n",
    "- Tek boyutlu (`1D`), çift boyutlu (`2D`) veya daha fazla boyutlu diziler oluşturulabilir.\n",
    "- Listeye benzer ama çok daha hızlı ve işlevseldir.\n",
    "\n",
    "---\n",
    "\n",
    "## 🔢 Nümerik ve İstatistiksel İşlemler\n",
    "\n",
    "NumPy ile şunlar kolayca yapılabilir:\n",
    "\n",
    "- **Ortalama, medyan, varyans, standart sapma**  \n",
    "  `mean()`, `median()`, `var()`, `std()`\n",
    "\n",
    "- **Toplam, çarpım, min–max, yüzde dilim**  \n",
    "  `sum()`, `prod()`, `min()`, `max()`, `percentile()`, `quantile()`\n",
    "\n",
    "- **Matematiksel fonksiyonlar**  \n",
    "  `sin()`, `cos()`, `log()`, `sqrt()`, `exp()`, vs.\n",
    "\n",
    "---\n",
    "\n",
    "## 🔍 Veri Seçimi ve Şekillendirme\n",
    "\n",
    "- **Indexing ve slicing**: Dizi elemanlarına ulaşmak için.\n",
    "- **Fancy indexing & boolean indexing**: Koşullu veya özel index ile seçim.\n",
    "- **reshape()**: Dizinin şeklini değiştirme.\n",
    "- **flatten()**: Çok boyutlu diziyi tek boyuta indirme.\n",
    "\n",
    "---\n",
    "\n",
    "## 📌 Kısaca NumPy:\n",
    "\n",
    "> - Bilimsel hesaplama için temel araçtır.  \n",
    "> - Hızlı, verimli ve esnek veri işlemleri sağlar.  \n",
    "> - Veri analizi ve makine öğrenmesinde sıkça kullanılır.  \n",
    "\n",
    "**NumPy bilmek, Python ile veriyle çalışmanın temelidir.**\n"
   ]
  }
 ],
 "metadata": {
  "kernelspec": {
   "display_name": "base",
   "language": "python",
   "name": "python3"
  },
  "language_info": {
   "codemirror_mode": {
    "name": "ipython",
    "version": 3
   },
   "file_extension": ".py",
   "mimetype": "text/x-python",
   "name": "python",
   "nbconvert_exporter": "python",
   "pygments_lexer": "ipython3",
   "version": "3.12.4"
  }
 },
 "nbformat": 4,
 "nbformat_minor": 5
}
